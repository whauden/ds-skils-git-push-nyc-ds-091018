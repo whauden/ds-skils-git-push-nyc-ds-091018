{
 "cells": [
  {
   "cell_type": "markdown",
   "metadata": {},
   "source": [
    "# The Command Line + Git Review\n",
    "\n",
    "Recall from our first class several of the important command line keywords such as **pwd**, **cd**, and **ls**. If you need a brief review of these, see the day 1 materials (included below for your convenience).\n",
    "\n",
    "Also recall that best practices are to clone each lessons materials to your local machine for working. Here's a quick review of the process:\n",
    "    * Click on the Github link\n",
    "    * Fork the repository\n",
    "    * Copy the new (forked) url\n",
    "    * In terminal type `**git clone cmd+v**` (cmd+v to paste the copied url)\n",
    "        * Be sure to run the above command where you want to download the repository!\n",
    "        \n",
    "## Git add, commit and push\n",
    "Once you make changes to your forked copy of the repository (such as doing the labs, or your own explorations), you may also want to push those changes to the web to save and share your work with others. This would be a common practice amongst a work team where individuals might be sharing code with each other for various projects. To do this, you need three seperate steps:\n",
    "* adding changed files to be pushed to the web\n",
    "* commiting changes (stages files and adds descriptive comments regarding changes)\n",
    "* push changes (finalizes changes by pushing them to the web)\n"
   ]
  },
  {
   "cell_type": "markdown",
   "metadata": {},
   "source": [
    "# In the terminal, navigate to a cloned repository that you have worked on."
   ]
  },
  {
   "cell_type": "markdown",
   "metadata": {},
   "source": [
    "Run the following:  \n",
    "#   ``` git status ```  \n",
    "You should see something like this:"
   ]
  },
  {
   "cell_type": "markdown",
   "metadata": {},
   "source": [
    "<img src='git_status.png'>"
   ]
  },
  {
   "cell_type": "markdown",
   "metadata": {},
   "source": [
    "# Add everything to be changed\n",
    "# ` git add --all`  \n",
    "\n",
    "Alternatively you could specify specific files or folders with `git add filename` or `git add foldername`."
   ]
  },
  {
   "cell_type": "markdown",
   "metadata": {},
   "source": [
    "# You can continue to see the progress with `git status`\n",
    "Notice how everything's green indicating these files are changes we are about to commit."
   ]
  },
  {
   "cell_type": "markdown",
   "metadata": {},
   "source": [
    "<img src='git_status2.png' width=600>"
   ]
  },
  {
   "cell_type": "markdown",
   "metadata": {},
   "source": [
    "# Commit your changes `git commit -m \"your required comment\"`\n",
    "The -m is a required option parameter for specifying a comment. This can be anything and is meant to help inform yourself and others as to what changes were made."
   ]
  },
  {
   "cell_type": "markdown",
   "metadata": {},
   "source": [
    "## Again a quick look at `git status` is not required, but shows whats going on."
   ]
  },
  {
   "cell_type": "markdown",
   "metadata": {},
   "source": [
    "<img src='git_status3.png' width=600>"
   ]
  },
  {
   "cell_type": "markdown",
   "metadata": {},
   "source": [
    "# Finally, push your changes `git push origin master`\n",
    "Origin and master refer to your git repositories **remote** and **branch**. For now, we don't have a need for setting up multiple remotes (locations) or branches (versions). Furthermore, origin and master are the default for both remotes and branches respectively, so just use the code as is for now."
   ]
  },
  {
   "cell_type": "markdown",
   "metadata": {},
   "source": [
    "# Navigating to the github page online, you should now see your changes reflected!"
   ]
  },
  {
   "cell_type": "code",
   "execution_count": null,
   "metadata": {},
   "outputs": [],
   "source": []
  },
  {
   "cell_type": "markdown",
   "metadata": {},
   "source": [
    "# Appendix: Notes from Day 1"
   ]
  },
  {
   "cell_type": "markdown",
   "metadata": {},
   "source": [
    "# Cloning Learn.co lessons to your local hard drive.\n",
    "\n",
    "One of the many useful features of the command line will be using git to clone local copies of the curricullum hosted on learn.co. This will allow you to work offline and save changes as you work through exercises and start programming!\n",
    "To start, **for mac users, open terminal**, **for Windows, open “Git Bash”**."
   ]
  },
  {
   "cell_type": "markdown",
   "metadata": {},
   "source": [
    "# Cloning github repos and Learn.co lessons\n",
    "\n",
    "Now that you can navigate the file directory using the command line, you're ready to download some course materials from the web to your local environment.  \n",
    "\n",
    "* Create a folder on your computer for your course materials and navigate into it. \n",
    "* Then create a subfolder titled \"Day1\" (or something similar) and navigate into that.\n",
    "\n",
    "* Return to your web browser and navigate to the lesson you want to download.\n",
    "* Click the github icon\n",
    "\n",
    "<img src=\"Learn_Github_Logo.png\">\n",
    "\n",
    "You'll be redirected to the associated github repository like this.  \n",
    "* **Click the fork button**, as shown in order to create a copy to your personal account which you can edit and update.\n",
    "<img src=\"Github_Fork_Button.png\">"
   ]
  },
  {
   "cell_type": "markdown",
   "metadata": {},
   "source": [
    "After a moment of this:\n",
    "<img src=\"Github_Forking_In_Progress.png\" width=350>\n",
    "You'll be redirected to your new personal copy of the repository:\n",
    "<img src=\"Forked_Github_Page.png\" width=700>\n",
    "## Finally: \n",
    "* Press cmd+L to highlight the url bar and cmd+v to copy the url\n",
    "* Return to terminal (you should be in your \"Day1\" folder)\n",
    "* Type: **git clone** and paste your repo url (**cmd + v**)\n",
    "\n",
    "### Voila!  \n",
    "#### The repository and all of its contents will be downloaded locally to your computer!"
   ]
  },
  {
   "cell_type": "markdown",
   "metadata": {},
   "source": [
    "# Command Line Notes from Day 1"
   ]
  },
  {
   "cell_type": "markdown",
   "metadata": {},
   "source": [
    "# pwd\n",
    "\n",
    "The first command to try out is **pwd** which stands for **print working directory**. This will tell you where you currently are in the computer's directory structure. Try it out."
   ]
  },
  {
   "cell_type": "markdown",
   "metadata": {},
   "source": [
    "# cd\n",
    "\n",
    "The next essential command is **cd** which stands for **change directory**. This allows you to navigate to different folders on your computer's hard drive. Typing cd by itself will automatically take you to your home directory. Typing cd and a folder name will take you to that folder. Typing cd .. will move you one folder up in the hierarchy. Play around and trying moving around folders for a minute or two."
   ]
  },
  {
   "cell_type": "markdown",
   "metadata": {},
   "source": [
    "# Tab completion\n",
    "\n",
    "An extraordinarly useful feature when working on the command line is tab completion. This allows you to hit the tab button to autocomplete names once you have made a unique specification.  \n",
    "\n",
    "\n",
    "For example, if you navigate to your root directory by running the command **cd**, you will probably have 2 folders within your root directory named \"Downloads\" and \"Documents\" (these are standard folder names created by default in most systems, although you may have renamed them, or your system may be different). With these, or longer folder names, it can sometimes become cumbersome to type the full folder name. instead, you can start typing the command and folder name such as **\"cd Dow\"** and then press **tab** to autocomplete. Like magic, the command line should complete the statement correctly to be **cd Downloads**. (Note: this will not work if you have another folder that begins with \"Dow\". Similarly, if you just typed **cd D** or **cd Do** followe by **tab**, the command line will not autocomplete, as the selection is not unique, because **D** or **Do** could both refer to either **Documents** or **Downloads**. Also note that these commands are case sensative, and folder capitalization much be matched exactly."
   ]
  },
  {
   "cell_type": "markdown",
   "metadata": {},
   "source": [
    "# ls\n",
    "\n",
    "Continuing with navigating the computer's hard drive, it's useful to now how to **list files**. This is done with the **ls** command, short for list.\n",
    "\n",
    "You can also pass optional parameters to ls such as **ls -a** which list **all files** (including hidden files), **ls -l** which will give a **long listing** of files (including file size and last edit times) or you can pass multiple parameters simultaneously such as **ls -al** to produce a detailed listing of all files."
   ]
  },
  {
   "cell_type": "markdown",
   "metadata": {},
   "source": [
    "# * the wildcard paramter\n",
    "\n",
    "Also very useful is the wildcard paramter. For example, if you wanted to list all files in the current working directory that begin with a, you could type **ls a***. Here, the asterix (*) denotes anything is allowed following the a. Similarly, to list all pdf files in the current working directory we could type **ls *.pdf**, or to list all text files, we could type **ls .txt**."
   ]
  },
  {
   "cell_type": "markdown",
   "metadata": {},
   "source": [
    "# mkdir\n",
    "\n",
    "Finally, as you continue to navigate the file directory from the command line it can be useful to be able to create new folders. To do this, use the **mkdir** command, which stands for **make directory**. Try it out with **mkdir NewFolderName**. Afterwards, use the **ls** command to see that there is indeed a new folder, and if you wish, move into the new folder using the **cd** command."
   ]
  }
 ],
 "metadata": {
  "kernelspec": {
   "display_name": "Python 3",
   "language": "python",
   "name": "python3"
  },
  "language_info": {
   "codemirror_mode": {
    "name": "ipython",
    "version": 3
   },
   "file_extension": ".py",
   "mimetype": "text/x-python",
   "name": "python",
   "nbconvert_exporter": "python",
   "pygments_lexer": "ipython3",
   "version": "3.6.4"
  }
 },
 "nbformat": 4,
 "nbformat_minor": 2
}
